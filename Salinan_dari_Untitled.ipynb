{
  "nbformat": 4,
  "nbformat_minor": 0,
  "metadata": {
    "colab": {
      "provenance": []
    },
    "kernelspec": {
      "name": "python3",
      "display_name": "Python 3"
    },
    "language_info": {
      "name": "python"
    }
  },
  "cells": [
    {
      "cell_type": "code",
      "execution_count": null,
      "metadata": {
        "id": "zuAHhVb-VnYZ"
      },
      "outputs": [],
      "source": [
        "def add_str(input_str):\n",
        "#split the input string by commas and join to create a single string of digits\n",
        "  digits_str =\".join(input_str.split('1,3,5')\"\n",
        "\n"
      ]
    },
    {
      "cell_type": "code",
      "source": [
        "input = \"1,3,5\"\n",
        "output =\"1,3,6\""
      ],
      "metadata": {
        "id": "wWmxG82cXn8g"
      },
      "execution_count": null,
      "outputs": []
    },
    {
      "cell_type": "code",
      "source": [
        "input_str = '1,3,39'\n",
        "\n",
        "# Remove commas and convert the string to an integer\n",
        "num = int(input_str.replace('1,3,39', '1339'))\n",
        "\n",
        "# Add 1 to the number\n",
        "num += 1\n",
        "\n",
        "# Convert the result back to a string and split it into individual digits\n",
        "output_str = ','.join(str(num))\n",
        "\n",
        "print(output_str)"
      ],
      "metadata": {
        "colab": {
          "base_uri": "https://localhost:8080/"
        },
        "id": "HHwkZpjVgPkL",
        "outputId": "dda2bf67-1db1-49b2-9cd4-faaf6bbc6e31"
      },
      "execution_count": null,
      "outputs": [
        {
          "output_type": "stream",
          "name": "stdout",
          "text": [
            "1,3,4,0\n"
          ]
        }
      ]
    },
    {
      "cell_type": "code",
      "source": [
        "# Input string\n",
        "input_str = '0,1,3,39'\n",
        "\n",
        "# Remove leading zeros from the input and split into individual digits\n",
        "digits = [str(int(digit)) for digit in input_str.split(',')]\n",
        "\n",
        "# Combine the digits into a single number, add 1, and convert back to string\n",
        "combined_number = str(int(''.join(digits)) + 1)\n",
        "\n",
        "# Separate the combined number into individual digits and join with commas\n",
        "output_str = ','.join(combined_number)\n",
        "\n",
        "# Print the result\n",
        "print(output_str)"
      ],
      "metadata": {
        "colab": {
          "base_uri": "https://localhost:8080/"
        },
        "id": "tfMrEgtCrKQu",
        "outputId": "f2d22a5f-0165-4b97-e395-8149c72aac69"
      },
      "execution_count": null,
      "outputs": [
        {
          "output_type": "stream",
          "name": "stdout",
          "text": [
            "1,3,4,0\n"
          ]
        }
      ]
    },
    {
      "cell_type": "code",
      "source": [
        "# Test cases\n",
        "print(add_str('1,3,5'))   # Output: '1,3,6'\n",
        "print(add_str('1,3,39'))  # Output: '1,3,4,0'\n",
        "print(add_str('0,1,3,39'))  # Output: '1,3,4,0'\n",
        "print(add_str)"
      ],
      "metadata": {
        "colab": {
          "base_uri": "https://localhost:8080/",
          "height": 245
        },
        "id": "b6ZIk9TlwLR7",
        "outputId": "0856693a-d4d6-40e5-e137-da185a1c2b71"
      },
      "execution_count": null,
      "outputs": [
        {
          "output_type": "error",
          "ename": "TypeError",
          "evalue": "ignored",
          "traceback": [
            "\u001b[0;31m---------------------------------------------------------------------------\u001b[0m",
            "\u001b[0;31mTypeError\u001b[0m                                 Traceback (most recent call last)",
            "\u001b[0;32m<ipython-input-70-f6b95cdda4be>\u001b[0m in \u001b[0;36m<cell line: 2>\u001b[0;34m()\u001b[0m\n\u001b[1;32m      1\u001b[0m \u001b[0;31m# Test cases\u001b[0m\u001b[0;34m\u001b[0m\u001b[0;34m\u001b[0m\u001b[0m\n\u001b[0;32m----> 2\u001b[0;31m \u001b[0mprint\u001b[0m\u001b[0;34m(\u001b[0m\u001b[0minput_str\u001b[0m\u001b[0;34m(\u001b[0m\u001b[0;34m'1,3,5'\u001b[0m\u001b[0;34m)\u001b[0m\u001b[0;34m)\u001b[0m   \u001b[0;31m# Output_str: '1,3,6'\u001b[0m\u001b[0;34m\u001b[0m\u001b[0;34m\u001b[0m\u001b[0m\n\u001b[0m\u001b[1;32m      3\u001b[0m \u001b[0mprint\u001b[0m\u001b[0;34m(\u001b[0m\u001b[0minput_str\u001b[0m\u001b[0;34m(\u001b[0m\u001b[0;34m'1,3,39'\u001b[0m\u001b[0;34m)\u001b[0m\u001b[0;34m)\u001b[0m  \u001b[0;31m# Output_str: '1,3,4,0'\u001b[0m\u001b[0;34m\u001b[0m\u001b[0;34m\u001b[0m\u001b[0m\n\u001b[1;32m      4\u001b[0m \u001b[0mprint\u001b[0m\u001b[0;34m(\u001b[0m\u001b[0minput_str\u001b[0m\u001b[0;34m(\u001b[0m\u001b[0;34m'0,1,3,39'\u001b[0m\u001b[0;34m)\u001b[0m\u001b[0;34m)\u001b[0m  \u001b[0;31m# Output_str: '1,3,4,0'\u001b[0m\u001b[0;34m\u001b[0m\u001b[0;34m\u001b[0m\u001b[0m\n\u001b[1;32m      5\u001b[0m \u001b[0mprint\u001b[0m\u001b[0;34m(\u001b[0m\u001b[0moutput_str\u001b[0m\u001b[0;34m)\u001b[0m\u001b[0;34m\u001b[0m\u001b[0;34m\u001b[0m\u001b[0m\n",
            "\u001b[0;31mTypeError\u001b[0m: 'str' object is not callable"
          ]
        }
      ]
    },
    {
      "cell_type": "code",
      "source": [
        "# Input strings\n",
        "first_string = 'jalalluna'\n",
        "second_string = '123132345'\n",
        "\n",
        "# Create a dictionary to map positions to letters\n",
        "position_to_letter = {int(second_string[i]): first_string[i] for i in range(len(second_string))}\n",
        "\n",
        "# Initialize an empty list to store the decoded letters\n",
        "decoded_letters = []\n",
        "\n",
        "# Iterate through the second string and retrieve the letters\n",
        "for position in sorted(position_to_letter.keys()):\n",
        "    decoded_letters.append(position_to_letter[position])\n",
        "\n",
        "# Combine the decoded letters to form the output string\n",
        "output = ''.join(decoded_letters)\n",
        "\n",
        "# Print the decoded output\n",
        "print(output)"
      ],
      "metadata": {
        "colab": {
          "base_uri": "https://localhost:8080/"
        },
        "id": "0IU9lZBlzaHt",
        "outputId": "c99ed6d5-6ae5-47f7-d294-3a4f678ba8ae"
      },
      "execution_count": null,
      "outputs": [
        {
          "output_type": "stream",
          "name": "stdout",
          "text": [
            "aluna\n"
          ]
        }
      ]
    }
  ]
}