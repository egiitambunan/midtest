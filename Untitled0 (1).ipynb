{
  "nbformat": 4,
  "nbformat_minor": 0,
  "metadata": {
    "colab": {
      "provenance": []
    },
    "kernelspec": {
      "name": "python3",
      "display_name": "Python 3"
    },
    "language_info": {
      "name": "python"
    }
  },
  "cells": [
    {
      "cell_type": "code",
      "source": [
        "pip install pandas"
      ],
      "metadata": {
        "colab": {
          "base_uri": "https://localhost:8080/"
        },
        "id": "Wr-4m5gpNYsh",
        "outputId": "073a3270-3c39-4137-82a2-9ac5b24e608c"
      },
      "execution_count": 13,
      "outputs": [
        {
          "output_type": "stream",
          "name": "stdout",
          "text": [
            "Requirement already satisfied: pandas in /usr/local/lib/python3.10/dist-packages (1.5.3)\n",
            "Requirement already satisfied: python-dateutil>=2.8.1 in /usr/local/lib/python3.10/dist-packages (from pandas) (2.8.2)\n",
            "Requirement already satisfied: pytz>=2020.1 in /usr/local/lib/python3.10/dist-packages (from pandas) (2023.3.post1)\n",
            "Requirement already satisfied: numpy>=1.21.0 in /usr/local/lib/python3.10/dist-packages (from pandas) (1.23.5)\n",
            "Requirement already satisfied: six>=1.5 in /usr/local/lib/python3.10/dist-packages (from python-dateutil>=2.8.1->pandas) (1.16.0)\n"
          ]
        }
      ]
    },
    {
      "cell_type": "code",
      "execution_count": 14,
      "metadata": {
        "id": "6XgeQNeWJIkz"
      },
      "outputs": [],
      "source": [
        "import requests"
      ]
    },
    {
      "cell_type": "code",
      "source": [
        "import pandas as pd"
      ],
      "metadata": {
        "id": "b2S2vfG6KXW2"
      },
      "execution_count": 15,
      "outputs": []
    },
    {
      "cell_type": "code",
      "source": [
        "api_url =\"https://berita-indo-api-next.vercel.app/api/kumparan-news/\""
      ],
      "metadata": {
        "id": "b06-H3AzKgoT"
      },
      "execution_count": 16,
      "outputs": []
    },
    {
      "cell_type": "code",
      "source": [
        "response = requests.get(api_url)"
      ],
      "metadata": {
        "id": "6CI5k1XPLDP1"
      },
      "execution_count": 17,
      "outputs": []
    },
    {
      "cell_type": "code",
      "source": [
        "json_data = response.json()"
      ],
      "metadata": {
        "id": "CTssWyiBLSNn"
      },
      "execution_count": 18,
      "outputs": []
    },
    {
      "cell_type": "code",
      "source": [
        "news_data = json_data.get('data', [])\n",
        "df = pd.DataFrame(news_data)"
      ],
      "metadata": {
        "id": "BQRrEn5-LuVR"
      },
      "execution_count": 19,
      "outputs": []
    },
    {
      "cell_type": "code",
      "source": [
        "df['isoDate'] = pd.to_datetime(df['isoDate'])"
      ],
      "metadata": {
        "id": "iDUtmYCMMGYQ"
      },
      "execution_count": 20,
      "outputs": []
    },
    {
      "cell_type": "code",
      "source": [
        "print(df)"
      ],
      "metadata": {
        "colab": {
          "base_uri": "https://localhost:8080/"
        },
        "id": "0nxlQLGOMpIG",
        "outputId": "9443d0a5-0db7-498b-f816-ea88d338b533"
      },
      "execution_count": 21,
      "outputs": [
        {
          "output_type": "stream",
          "name": "stdout",
          "text": [
            "             creator                                              title  \\\n",
            "0       kumparanNEWS  Ketum Parpol dan TPN Ganjar-Mahfud Rapat Evalu...   \n",
            "1       kumparanHITS  Kasus Narkoba yang Menjerat Ammar Zoni hingga ...   \n",
            "2       kumparanHITS  Kembali Terjerat Narkoba, Ammar Zoni Ditangkap...   \n",
            "3     kumparanBISNIS  AdMedika dan KlikDokter Kolaborasi Telemedicin...   \n",
            "4       kumparanNEWS  3 Pria Print Uang Pakai Kertas HVS: Dibelikan ...   \n",
            "5       kumparanNEWS  KPU soal 252 Juta Data Pemilih Diduga Bogor: P...   \n",
            "6     kumparanBISNIS  Erick Thohir: Ibu Saya Jualan Baju di Pasar Te...   \n",
            "7     kumparanBISNIS  Erick Thohir Sebut Ada Potensi Penyusutan Laha...   \n",
            "8       kumparanNEWS  Sindiran Cak Imin: Kemuliaan Itu karena Karakt...   \n",
            "9        kumparanMOM            5 Obat Rumahan untuk Sariawan pada Bayi   \n",
            "10    kumparanBISNIS  KEK Pariwisata Masih Kalah dengan Manufaktur, ...   \n",
            "11       Lampung Geh  Lampung Dapat Jatah Alokasi Anggaran dari APBN...   \n",
            "12      kumparanNEWS  Tampil Lebih Luwes dan Jenaka, Pengamat: Prabo...   \n",
            "13      kumparanNEWS  Audit Sampah Ciliwung, Tiga Lembaga Ini Tagih ...   \n",
            "14       kumparanOTO  Bocoran Mobil Baru Toyota di 2024, dari GR sam...   \n",
            "15      kumparanNEWS  Dapat Respons Positif Usai Debat, Anies Minta ...   \n",
            "16     kumparanSPORT  BWF World Tour Finals: Dihiasi Aksi Ganti Rake...   \n",
            "17      kumparanNEWS  Anggota Parlemen Thailand Dibui Enam Tahun kar...   \n",
            "18      kumparanFOOD      Ini Waktu yang Ideal untuk Makan Menurut Ahli   \n",
            "19      kumparanHITS  Ammar Zoni Kembali Ditangkap karena Kasus Nark...   \n",
            "20      kumparanNEWS  Foto: KPU Palembang Mulai Merakit 23.921 Kotak...   \n",
            "21  kumparanBOLANITA  Mary Earps: Nomine Kiper Wanita Terbaik FIFA &...   \n",
            "22      kumparanNEWS  Anies Akan Prioritaskan Infrastruktur Mikro hi...   \n",
            "23    kumparanBISNIS  Terima Laporan Bank Dunia, Airlangga Ungkap St...   \n",
            "24      kumparanNEWS  74,3% Masyarakat Puas dengan Kinerja Pemerinta...   \n",
            "\n",
            "                                                 link  \\\n",
            "0   https://kumparan.com/kumparannews/ketum-parpol...   \n",
            "1   https://kumparan.com/kumparanhits/kasus-narkob...   \n",
            "2   https://kumparan.com/kumparanhits/kembali-terj...   \n",
            "3   https://kumparan.com/kumparanbisnis/admedika-d...   \n",
            "4   https://kumparan.com/kumparannews/3-pria-print...   \n",
            "5   https://kumparan.com/kumparannews/kpu-soal-252...   \n",
            "6   https://kumparan.com/kumparanbisnis/erick-thoh...   \n",
            "7   https://kumparan.com/kumparanbisnis/erick-thoh...   \n",
            "8   https://kumparan.com/kumparannews/sindiran-cak...   \n",
            "9   https://kumparan.com/kumparanmom/5-obat-rumaha...   \n",
            "10  https://kumparan.com/kumparanbisnis/kek-pariwi...   \n",
            "11  https://kumparan.com/lampunggeh/lampung-dapat-...   \n",
            "12  https://kumparan.com/kumparannews/tampil-lebih...   \n",
            "13  https://kumparan.com/kumparannews/audit-sampah...   \n",
            "14  https://kumparan.com/kumparanoto/bocoran-mobil...   \n",
            "15  https://kumparan.com/kumparannews/dapat-respon...   \n",
            "16  https://kumparan.com/kumparansport/bwf-world-t...   \n",
            "17  https://kumparan.com/kumparannews/anggota-parl...   \n",
            "18  https://kumparan.com/kumparanfood/ini-waktu-ya...   \n",
            "19  https://kumparan.com/kumparanhits/ammar-zoni-k...   \n",
            "20  https://kumparan.com/kumparannews/foto-kpu-pal...   \n",
            "21  https://kumparan.com/kumparanbolanita/mary-ear...   \n",
            "22  https://kumparan.com/kumparannews/anies-akan-p...   \n",
            "23  https://kumparan.com/kumparanbisnis/terima-lap...   \n",
            "24  https://kumparan.com/kumparannews/74-3-masyara...   \n",
            "\n",
            "                       author       categories                   isoDate  \\\n",
            "0     Paulina Herasmaranindar           [News] 2023-12-13 08:02:46+00:00   \n",
            "1          Caroline Pramantie  [Entertainment] 2023-12-13 08:02:42+00:00   \n",
            "2   Andrian Gilang Khrisnanda  [Entertainment] 2023-12-13 07:58:58+00:00   \n",
            "3              Wina Ramadhani         [Bisnis] 2023-12-13 07:55:18+00:00   \n",
            "4                  M Lutfan D           [News] 2023-12-13 07:54:06+00:00   \n",
            "5       Muhammad Luthfi Humam           [News] 2023-12-13 07:51:22+00:00   \n",
            "6           Muhammad Darisman         [Bisnis] 2023-12-13 07:50:21+00:00   \n",
            "7                   Moh Fajri         [Bisnis] 2023-12-13 07:45:26+00:00   \n",
            "8       Ochi Amanaturrosyidah           [News] 2023-12-13 07:39:10+00:00   \n",
            "9                Eka Nurjanah            [Mom] 2023-12-13 07:39:24+00:00   \n",
            "10                Sinar Utami         [Bisnis] 2023-12-13 07:45:11+00:00   \n",
            "11           Galih Prihantoro           [News] 2023-12-13 07:43:34+00:00   \n",
            "12               Tim kumparan           [News] 2023-12-13 07:42:08+00:00   \n",
            "13             Wina Ramadhani           [News] 2023-12-13 07:40:52+00:00   \n",
            "14     Aditya Pratama Niagara       [Otomotif] 2023-12-13 07:38:35+00:00   \n",
            "15               Tim kumparan           [News] 2023-12-13 07:39:02+00:00   \n",
            "16          Katondio B. Wedya  [Bola & Sports] 2023-12-13 07:35:49+00:00   \n",
            "17         Andreas Gerry Tuwo           [News] 2023-12-13 07:25:10+00:00   \n",
            "18               Ela Nurlaela  [Food & Travel] 2023-12-13 07:26:43+00:00   \n",
            "19            DN Mustika Sari  [Entertainment] 2023-12-13 07:22:40+00:00   \n",
            "20           Dicky Adam Sidiq           [News] 2023-12-13 07:25:26+00:00   \n",
            "21              Antika Fahira       [Bolanita] 2023-12-13 07:24:05+00:00   \n",
            "22               Tim kumparan           [News] 2023-12-13 07:24:21+00:00   \n",
            "23         Wendiyanto Saputro         [Bisnis] 2023-12-13 07:19:00+00:00   \n",
            "24      Ochi Amanaturrosyidah           [News] 2023-12-13 07:11:41+00:00   \n",
            "\n",
            "                                          description  \\\n",
            "0   Megawati turun langsung dalam rapat evaluasi d...   \n",
            "1   Ammar Zoni kembali ditangkap untuk ketiga kali...   \n",
            "2   Ammar Zoni tiga kali terjerat kasus narkoba.#k...   \n",
            "3   Admedika dan KlikDokter berupaya menciptakan k...   \n",
            "4   Ada-ada saja. Di Deli Serdang, 3 pria buat uan...   \n",
            "5   Dugaan kebocoran data pemilih masih didalami o...   \n",
            "6   Menteri BUMN bercerita soal ketangguhan sang i...   \n",
            "7   Menteri BUMN Erick Thohir menegaskan ada kemun...   \n",
            "8   Sindiran Cak Imin: Kemuliaan Itu karena Karakt...   \n",
            "9   Bila bayi sariawan, coba atasi dengan beberapa...   \n",
            "10  Dewan Nasional Kawasan Ekonomi Khusus (KEK) me...   \n",
            "11  Provinsi Lampung mengalokasi anggaran dari APB...   \n",
            "12  Pengamat politik, Bawono Kumoro ungkap Prabowo...   \n",
            "13  Tiga lembaga yang lakukan audit di Ciliwung ta...   \n",
            "14  Akan ada banyak model baru Toyota di 2024 mend...   \n",
            "15  Anies turut senang dan bersyukur ketika disebu...   \n",
            "16  Apriyani Rahayu/Siti Fadia mengalahkan Mayu Ma...   \n",
            "17  Anggota parlemen Thailand, Rukchanok Srinork, ...   \n",
            "18  Ini tips untuk membantumu merencanakan waktu m...   \n",
            "19  Kabar Ammar Zoni ditangkap karena dugaan narko...   \n",
            "20  Nantinya, kotak suara tersebut akan didistribu...   \n",
            "21  Mary Earps tengah moncer. Kemarin, jersi bertu...   \n",
            "22  Anies akan memprioritaskan infrastruktur mikro...   \n",
            "23  Menko Perekonomian Airlangga Hartarto mengungk...   \n",
            "24  74,3% Masyarakat Puas dengan Kinerja Pemerinta...   \n",
            "\n",
            "                                                image  \n",
            "0   {'small': 'https://blue.kumparan.com/image/upl...  \n",
            "1   {'small': 'https://blue.kumparan.com/image/upl...  \n",
            "2   {'small': 'https://blue.kumparan.com/image/upl...  \n",
            "3   {'small': 'https://blue.kumparan.com/image/upl...  \n",
            "4   {'small': 'https://blue.kumparan.com/image/upl...  \n",
            "5   {'small': 'https://blue.kumparan.com/image/upl...  \n",
            "6   {'small': 'https://blue.kumparan.com/image/upl...  \n",
            "7   {'small': 'https://blue.kumparan.com/image/upl...  \n",
            "8   {'small': 'https://blue.kumparan.com/image/upl...  \n",
            "9   {'small': 'https://blue.kumparan.com/image/upl...  \n",
            "10  {'small': 'https://blue.kumparan.com/image/upl...  \n",
            "11  {'small': 'https://blue.kumparan.com/image/upl...  \n",
            "12  {'small': 'https://blue.kumparan.com/image/upl...  \n",
            "13  {'small': 'https://blue.kumparan.com/image/upl...  \n",
            "14  {'small': 'https://blue.kumparan.com/image/upl...  \n",
            "15  {'small': 'https://blue.kumparan.com/image/upl...  \n",
            "16  {'small': 'https://blue.kumparan.com/image/upl...  \n",
            "17  {'small': 'https://blue.kumparan.com/image/upl...  \n",
            "18  {'small': 'https://blue.kumparan.com/image/upl...  \n",
            "19  {'small': 'https://blue.kumparan.com/image/upl...  \n",
            "20  {'small': 'https://blue.kumparan.com/image/upl...  \n",
            "21  {'small': 'https://blue.kumparan.com/image/upl...  \n",
            "22  {'small': 'https://blue.kumparan.com/image/upl...  \n",
            "23  {'small': 'https://blue.kumparan.com/image/upl...  \n",
            "24  {'small': 'https://blue.kumparan.com/image/upl...  \n"
          ]
        }
      ]
    }
  ]
}